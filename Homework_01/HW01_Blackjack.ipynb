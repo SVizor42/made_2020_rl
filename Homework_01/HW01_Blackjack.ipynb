{
 "cells": [
  {
   "cell_type": "markdown",
   "metadata": {},
   "source": [
    "## Advanced DL and RL: Домашнее задание 1"
   ]
  },
  {
   "cell_type": "markdown",
   "metadata": {},
   "source": [
    "Мы будем обучаться играть в очень простую, но всё-таки знаменитую и популярную игру: блекджек. Правила блекджека достаточно просты; давайте начнём с самой базовой версии, которая реализована в OpenAI Gym:\n",
    "https://github.com/openai/gym/blob/38a1f630dc9815a567aaf299ae5844c8f8b9a6fa/gym/envs/toy_text/blackjack.py"
   ]
  },
  {
   "cell_type": "code",
   "execution_count": 1,
   "metadata": {},
   "outputs": [],
   "source": [
    "import gym\n",
    "import sys\n",
    "import random\n",
    "import numpy as np\n",
    "import scipy as sp\n",
    "from collections import defaultdict\n",
    "from tqdm import tqdm\n",
    "from operator import mul\n",
    "from functools import reduce\n",
    "\n",
    "import matplotlib as mpl\n",
    "import matplotlib.pyplot as plt\n",
    "%matplotlib inline\n",
    "import seaborn as sns"
   ]
  },
  {
   "cell_type": "markdown",
   "metadata": {},
   "source": [
    "### Часть первая, с блекджеком и стратегиями"
   ]
  },
  {
   "cell_type": "code",
   "execution_count": 2,
   "metadata": {},
   "outputs": [],
   "source": [
    "env = gym.make('Blackjack-v0', natural=True)"
   ]
  },
  {
   "cell_type": "code",
   "execution_count": 3,
   "metadata": {},
   "outputs": [
    {
     "name": "stdout",
     "output_type": "stream",
     "text": [
      "(18, 3, False) 1.0 True\n",
      "(20, 3, False) 0.0 False\n",
      "(22, 3, False) -1.0 True\n",
      "(22, 3, False) 0.0 True\n",
      "(22, 3, False) 0.0 True\n"
     ]
    }
   ],
   "source": [
    "env.reset()\n",
    "for _ in range(5):\n",
    "    observation, reward, done, info = env.step(env.action_space.sample())\n",
    "    print(observation, reward, done)\n",
    "    \n",
    "env.close()"
   ]
  },
  {
   "cell_type": "markdown",
   "metadata": {},
   "source": [
    "1. Рассмотрим очень простую стратегию: говорить `stand`, если у нас на руках комбинация в 19, 20 или 21 очко, во всех остальных случаях говорить `hit`. Используйте методы Монте-Карло, чтобы оценить выигрыш от этой стратегии."
   ]
  },
  {
   "cell_type": "code",
   "execution_count": 4,
   "metadata": {},
   "outputs": [],
   "source": [
    "EPISODES = 200000"
   ]
  },
  {
   "cell_type": "code",
   "execution_count": 5,
   "metadata": {},
   "outputs": [],
   "source": [
    "class NaiveStrategy:\n",
    "    def __call__(self, observation, training=False):\n",
    "        return 0 if observation[0] > 18 else 1 "
   ]
  },
  {
   "cell_type": "code",
   "execution_count": 6,
   "metadata": {},
   "outputs": [],
   "source": [
    "def one_episode(env, pi, training=False):\n",
    "    observation = env.reset()\n",
    "    \n",
    "    rewards = []\n",
    "    done = False\n",
    "    while not done:\n",
    "        action = pi(observation, training)\n",
    "        next_observation, reward, done, info = env.step(action)\n",
    "        if training:\n",
    "            pi.update_Q(observation, action, reward, next_observation)\n",
    "        observation = next_observation\n",
    "        rewards.append(reward)\n",
    "\n",
    "    return rewards\n",
    "\n",
    "def evaluate_strategy(env, pi, total_episodes, verbose=True):\n",
    "    total_reward = 0.\n",
    "    for i_episode in range(1, total_episodes + 1):\n",
    "        if verbose:\n",
    "            if i_episode % 100 == 0:\n",
    "                print(\"\\rEpisode {}/{}\".format(i_episode, total_episodes), end=\"\")\n",
    "                sys.stdout.flush()\n",
    "        rewards = one_episode(env, pi)         \n",
    "        total_reward = total_reward + rewards[-1]  \n",
    "    mean_reward = total_reward / total_episodes      \n",
    "        \n",
    "    return mean_reward"
   ]
  },
  {
   "cell_type": "code",
   "execution_count": 7,
   "metadata": {},
   "outputs": [
    {
     "name": "stdout",
     "output_type": "stream",
     "text": [
      "Episode 200000/200000"
     ]
    }
   ],
   "source": [
    "naive_pi = NaiveStrategy()\n",
    "avg_naive_reward = evaluate_strategy(env, naive_pi, EPISODES)\n",
    "env.close()"
   ]
  },
  {
   "cell_type": "code",
   "execution_count": 8,
   "metadata": {},
   "outputs": [
    {
     "name": "stdout",
     "output_type": "stream",
     "text": [
      "Оценка среднего выигрыша для наивной стратегии составит: -0.18238\n"
     ]
    }
   ],
   "source": [
    "print(\"Оценка среднего выигрыша для наивной стратегии составит: {0}\".format(avg_naive_reward))"
   ]
  },
  {
   "cell_type": "markdown",
   "metadata": {},
   "source": [
    "2. Реализуйте метод обучения с подкреплением без модели (можно Q-обучение, но рекомендую попробовать и другие, например Monte Carlo control) для обучения стратегии в блекджеке, используя окружение `Blackjack-v0` из OpenAI Gym."
   ]
  },
  {
   "cell_type": "code",
   "execution_count": 9,
   "metadata": {},
   "outputs": [],
   "source": [
    "class QLearningStrategy:\n",
    "    def __init__(self, env, alpha, gamma, eps):\n",
    "        self.__env = env\n",
    "        self.__n_actions = env.action_space.n\n",
    "        self.__Q = defaultdict(lambda: np.zeros(self.__n_actions)) \n",
    "        self.__alpha = alpha\n",
    "        self.__gamma = gamma\n",
    "        self.__eps = eps\n",
    "        \n",
    "    def __call__(self, observation, training=False):\n",
    "        if random.random() > self.__eps or not training:\n",
    "            return np.argmax(self.__Q[observation])\n",
    "        else:\n",
    "            return np.random.choice(np.arange(self.__n_actions))\n",
    "        \n",
    "    def update_Q(self, observation, action, reward, next_observation):\n",
    "        current_Q = self.__Q[observation][action]\n",
    "        next_Q = np.max(self.__Q[next_observation]) if next_observation is not None else 0\n",
    "        target_Q = reward + (self.__gamma * next_Q)\n",
    "        self.__Q[observation][action] = current_Q + self.__alpha * (target_Q - current_Q)"
   ]
  },
  {
   "cell_type": "code",
   "execution_count": 10,
   "metadata": {},
   "outputs": [],
   "source": [
    "def q_learning_train(env, pi, total_episodes):\n",
    "    rewards = []\n",
    "    trends = []\n",
    "    for i_episode in range(0, total_episodes):\n",
    "        if i_episode % 100 == 0:\n",
    "            print(\"\\rEpisode {}/{}\".format(i_episode + 100, total_episodes), end=\"\")\n",
    "            sys.stdout.flush()\n",
    "        observation = env.reset()    \n",
    "        rewards.append(one_episode(env, pi, True)) \n",
    "        \n",
    "        if i_episode % 10000 == 0:\n",
    "            trends.append((i_episode, evaluate_strategy(env, pi, 10000, False)))\n",
    "            \n",
    "    return pi, rewards, trends"
   ]
  },
  {
   "cell_type": "markdown",
   "metadata": {},
   "source": [
    "3. Сколько выигрывает казино у вашей стратегии? Нарисуйте графики среднего дохода вашего метода (усреднённого по крайней мере по 100000 раздач, а лучше больше) по ходу обучения. Попробуйте подобрать оптимальные гиперпараметры."
   ]
  },
  {
   "cell_type": "code",
   "execution_count": 11,
   "metadata": {},
   "outputs": [],
   "source": [
    "def plot_reward(data, label):\n",
    "    plt.plot([x[0] for x in data], [y[1] for y in data], label=label)\n",
    "    plt.ylim([-0.4, 0.1])\n",
    "    plt.xlabel('Episode')\n",
    "    plt.ylabel('Avg. reward')\n",
    "    plt.grid()\n",
    "    plt.legend(loc='lower right')"
   ]
  },
  {
   "cell_type": "code",
   "execution_count": 12,
   "metadata": {},
   "outputs": [],
   "source": [
    "env = gym.make('Blackjack-v0', natural=True)\n",
    "alpha = 1e-05\n",
    "gamma = .95\n",
    "eps = 0.9\n",
    "EPISODES = 200000"
   ]
  },
  {
   "cell_type": "code",
   "execution_count": 13,
   "metadata": {},
   "outputs": [
    {
     "name": "stdout",
     "output_type": "stream",
     "text": [
      "Episode 200000/200000"
     ]
    }
   ],
   "source": [
    "pi = QLearningStrategy(env, alpha, gamma, eps)\n",
    "q_learning_pi, training_rewards, plot_data = q_learning_train(env, pi, EPISODES)"
   ]
  },
  {
   "cell_type": "code",
   "execution_count": 14,
   "metadata": {},
   "outputs": [
    {
     "name": "stdout",
     "output_type": "stream",
     "text": [
      "Episode 200000/200000"
     ]
    }
   ],
   "source": [
    "avg_q_learning_reward = evaluate_strategy(env, q_learning_pi, EPISODES)"
   ]
  },
  {
   "cell_type": "code",
   "execution_count": 15,
   "metadata": {},
   "outputs": [
    {
     "name": "stdout",
     "output_type": "stream",
     "text": [
      "Оценка среднего выигрыша для Q-learning стратегии составит: -0.0314575\n"
     ]
    }
   ],
   "source": [
    "print(\"Оценка среднего выигрыша для Q-learning стратегии составит: {0}\".format(avg_q_learning_reward))"
   ]
  },
  {
   "cell_type": "code",
   "execution_count": 16,
   "metadata": {},
   "outputs": [
    {
     "data": {
      "image/png": "[encoded data removed]",
      "text/plain": [
       "<Figure size 432x288 with 1 Axes>"
      ]
     },
     "metadata": {
      "needs_background": "light"
     },
     "output_type": "display_data"
    }
   ],
   "source": [
    "plot_reward(plot_data, \"Q_learning_reward\")"
   ]
  },
  {
   "cell_type": "code",
   "execution_count": 17,
   "metadata": {},
   "outputs": [],
   "source": [
    "env.close()"
   ]
  },
  {
   "cell_type": "markdown",
   "metadata": {},
   "source": [
    "### Часть вторая, удвоенная"
   ]
  },
  {
   "cell_type": "markdown",
   "metadata": {},
   "source": [
    "4. Реализуйте новый вариант блекджека на основе окружения `Blackjack-v0` из OpenAI Gym, в котором разрешено удвоение ставки."
   ]
  },
  {
   "cell_type": "markdown",
   "metadata": {},
   "source": [
    "Новый вариант блекджека на основе окружения `Blackjack-v0` из OpenAI Gym, в котором разрешено удвоение ставки, реализован в файле `blackjack_double.py`"
   ]
  },
  {
   "cell_type": "code",
   "execution_count": 18,
   "metadata": {},
   "outputs": [],
   "source": [
    "import blackjack_double"
   ]
  },
  {
   "cell_type": "code",
   "execution_count": 19,
   "metadata": {},
   "outputs": [],
   "source": [
    "env_double = blackjack_double.BlackjackEnv(natural=True)\n",
    "alpha = 1e-05\n",
    "gamma = .95\n",
    "eps = 0.9\n",
    "EPISODES = 200000"
   ]
  },
  {
   "cell_type": "markdown",
   "metadata": {},
   "source": [
    "5. Реализуйте метод обучения с подкреплением без модели для этого варианта, постройте графики, аналогичные п.3."
   ]
  },
  {
   "cell_type": "code",
   "execution_count": 20,
   "metadata": {},
   "outputs": [
    {
     "name": "stdout",
     "output_type": "stream",
     "text": [
      "Episode 200000/200000"
     ]
    }
   ],
   "source": [
    "pi_double = QLearningStrategy(env_double, alpha, gamma, eps)\n",
    "q_learning_pi_double, training_rewards_double, plot_data_double = \\\n",
    "    q_learning_train(env_double, pi_double, EPISODES)"
   ]
  },
  {
   "cell_type": "code",
   "execution_count": 21,
   "metadata": {},
   "outputs": [
    {
     "name": "stdout",
     "output_type": "stream",
     "text": [
      "Episode 200000/200000"
     ]
    }
   ],
   "source": [
    "avg_q_learning_double_reward = evaluate_strategy(env_double, q_learning_pi_double, EPISODES)"
   ]
  },
  {
   "cell_type": "code",
   "execution_count": 22,
   "metadata": {},
   "outputs": [
    {
     "name": "stdout",
     "output_type": "stream",
     "text": [
      "Оценка среднего выигрыша для Q-learning стратегии с возможностью удваивания составит: -0.0222\n"
     ]
    }
   ],
   "source": [
    "print(\"Оценка среднего выигрыша для Q-learning стратегии с возможностью удваивания составит: {0}\" \\\n",
    "      .format(avg_q_learning_double_reward))"
   ]
  },
  {
   "cell_type": "code",
   "execution_count": 23,
   "metadata": {},
   "outputs": [
    {
     "data": {
      "image/png": "[encoded data removed]",
      "text/plain": [
       "<Figure size 432x288 with 1 Axes>"
      ]
     },
     "metadata": {
      "needs_background": "light"
     },
     "output_type": "display_data"
    }
   ],
   "source": [
    "#plot_reward(plot_data, \"Q_learning_reward\")\n",
    "plot_reward(plot_data_double, \"Q_learning_double_reward\")"
   ]
  },
  {
   "cell_type": "code",
   "execution_count": 24,
   "metadata": {},
   "outputs": [],
   "source": [
    "env_double.close()"
   ]
  },
  {
   "cell_type": "markdown",
   "metadata": {},
   "source": [
    "### Часть третья, в главной роли — Дастин Хоффман"
   ]
  },
  {
   "cell_type": "markdown",
   "metadata": {},
   "source": [
    "6. Реализуйте вариант окружения `Blackjack-v0` из предыдущей части (с удвоением), в котором игрок имеет возможность “считать карты” в колоде. Это можно сделать разными способами; возможно, вам поможет статья википедии о блекджеке (а возможно, и нет)."
   ]
  },
  {
   "cell_type": "markdown",
   "metadata": {},
   "source": [
    "Обновленный вариант блекджека с удвоением, в котором игрок имеет возможность “считать карты” в колоде, реализован в файле `blackjack_counter.py`. Подсчет карт реализован <b>по системе \"Плюс-минус\"</b>."
   ]
  },
  {
   "cell_type": "code",
   "execution_count": 25,
   "metadata": {},
   "outputs": [],
   "source": [
    "import blackjack_counter"
   ]
  },
  {
   "cell_type": "code",
   "execution_count": 26,
   "metadata": {},
   "outputs": [],
   "source": [
    "env_cnt = blackjack_counter.BlackjackEnv(natural=True)\n",
    "alpha = 1e-05\n",
    "gamma = .95\n",
    "eps = 0.9\n",
    "EPISODES = 1000000"
   ]
  },
  {
   "cell_type": "markdown",
   "metadata": {},
   "source": [
    "7. Реализуйте метод обучения с подкреплением без модели для этого варианта, постройте графики, аналогичные п.3."
   ]
  },
  {
   "cell_type": "code",
   "execution_count": 27,
   "metadata": {},
   "outputs": [
    {
     "name": "stdout",
     "output_type": "stream",
     "text": [
      "Episode 1000000/1000000"
     ]
    }
   ],
   "source": [
    "pi_cnt = QLearningStrategy(env_cnt, alpha, gamma, eps)\n",
    "q_learning_pi_cnt, training_rewards_cnt, plot_data_cnt = \\\n",
    "    q_learning_train(env_cnt, pi_cnt, EPISODES)"
   ]
  },
  {
   "cell_type": "code",
   "execution_count": 28,
   "metadata": {},
   "outputs": [
    {
     "name": "stdout",
     "output_type": "stream",
     "text": [
      "Episode 1000000/1000000"
     ]
    }
   ],
   "source": [
    "avg_q_learning_cnt_reward = evaluate_strategy(env_cnt, q_learning_pi_cnt, EPISODES)"
   ]
  },
  {
   "cell_type": "code",
   "execution_count": 29,
   "metadata": {},
   "outputs": [
    {
     "name": "stdout",
     "output_type": "stream",
     "text": [
      "Оценка среднего выигрыша для Q-learning стратегии с возможностью удваивания и системой подсчета карт 'Плюс-минус' составит: -0.0072155\n"
     ]
    }
   ],
   "source": [
    "print(\"Оценка среднего выигрыша для Q-learning стратегии с возможностью удваивания и системой подсчета карт 'Плюс-минус' составит: {0}\" \\\n",
    "      .format(avg_q_learning_cnt_reward))"
   ]
  },
  {
   "cell_type": "code",
   "execution_count": 30,
   "metadata": {},
   "outputs": [
    {
     "data": {
      "image/png": "[encoded data removed]",
      "text/plain": [
       "<Figure size 432x288 with 1 Axes>"
      ]
     },
     "metadata": {
      "needs_background": "light"
     },
     "output_type": "display_data"
    }
   ],
   "source": [
    "plot_reward(plot_data_cnt, \"Q_learning_cnt_reward\")"
   ]
  },
  {
   "cell_type": "code",
   "execution_count": 31,
   "metadata": {},
   "outputs": [],
   "source": [
    "env_cnt.close()"
   ]
  },
  {
   "cell_type": "markdown",
   "metadata": {},
   "source": [
    "<b>Выводы:</b>\n",
    "1. Реализованы стратегии игры в блекджек с последовательным добавлением дополнительных возможностей - базовая, с удвоением и подсчетом карт. \n",
    "2. Каждый следующий вариант позволил увеличить средний ожидаемый выигрыш, однако обыграть казино так и не удалось. Наилучший средний выигрыш составил <b>-0.0072155</b>. Из полученных графиков видно, что мы вплотную подобрались к \"нулевой отметке\", а в отдельных случаях даже добиваемся положительного результата. \n",
    "3. На пункты 8 (уравнение Беллмана) и 9 (реализация `split`) не хватило времени."
   ]
  }
 ],
 "metadata": {
  "kernelspec": {
   "display_name": "Python 3",
   "language": "python",
   "name": "python3"
  },
  "language_info": {
   "codemirror_mode": {
    "name": "ipython",
    "version": 3
   },
   "file_extension": ".py",
   "mimetype": "text/x-python",
   "name": "python",
   "nbconvert_exporter": "python",
   "pygments_lexer": "ipython3",
   "version": "3.7.3"
  }
 },
 "nbformat": 4,
 "nbformat_minor": 2
}
